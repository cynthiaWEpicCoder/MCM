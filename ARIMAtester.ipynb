{
 "cells": [
  {
   "cell_type": "code",
   "execution_count": 6,
   "metadata": {},
   "outputs": [
    {
     "data": {
      "text/html": [
       "<div>\n",
       "<style scoped>\n",
       "    .dataframe tbody tr th:only-of-type {\n",
       "        vertical-align: middle;\n",
       "    }\n",
       "\n",
       "    .dataframe tbody tr th {\n",
       "        vertical-align: top;\n",
       "    }\n",
       "\n",
       "    .dataframe thead th {\n",
       "        text-align: right;\n",
       "    }\n",
       "</style>\n",
       "<table border=\"1\" class=\"dataframe\">\n",
       "  <thead>\n",
       "    <tr style=\"text-align: right;\">\n",
       "      <th></th>\n",
       "      <th>Name</th>\n",
       "      <th>Sex</th>\n",
       "      <th>Team</th>\n",
       "      <th>NOC</th>\n",
       "      <th>Year</th>\n",
       "      <th>City</th>\n",
       "      <th>Sport</th>\n",
       "      <th>Event</th>\n",
       "      <th>Medal</th>\n",
       "    </tr>\n",
       "  </thead>\n",
       "  <tbody>\n",
       "    <tr>\n",
       "      <th>0</th>\n",
       "      <td>A Dijiang</td>\n",
       "      <td>M</td>\n",
       "      <td>China</td>\n",
       "      <td>CHN</td>\n",
       "      <td>1992</td>\n",
       "      <td>Barcelona</td>\n",
       "      <td>Basketball</td>\n",
       "      <td>Basketball Men's Basketball</td>\n",
       "      <td>No medal</td>\n",
       "    </tr>\n",
       "    <tr>\n",
       "      <th>1</th>\n",
       "      <td>A Lamusi</td>\n",
       "      <td>M</td>\n",
       "      <td>China</td>\n",
       "      <td>CHN</td>\n",
       "      <td>2012</td>\n",
       "      <td>London</td>\n",
       "      <td>Judo</td>\n",
       "      <td>Judo Men's Extra-Lightweight</td>\n",
       "      <td>No medal</td>\n",
       "    </tr>\n",
       "    <tr>\n",
       "      <th>2</th>\n",
       "      <td>Gunnar Aaby</td>\n",
       "      <td>M</td>\n",
       "      <td>Denmark</td>\n",
       "      <td>DEN</td>\n",
       "      <td>1920</td>\n",
       "      <td>Antwerpen</td>\n",
       "      <td>Football</td>\n",
       "      <td>Football Men's Football</td>\n",
       "      <td>No medal</td>\n",
       "    </tr>\n",
       "    <tr>\n",
       "      <th>3</th>\n",
       "      <td>Edgar Aabye</td>\n",
       "      <td>M</td>\n",
       "      <td>Denmark/Sweden</td>\n",
       "      <td>DEN</td>\n",
       "      <td>1900</td>\n",
       "      <td>Paris</td>\n",
       "      <td>Tug-Of-War</td>\n",
       "      <td>Tug-Of-War Men's Tug-Of-War</td>\n",
       "      <td>Gold</td>\n",
       "    </tr>\n",
       "    <tr>\n",
       "      <th>4</th>\n",
       "      <td>Cornelia (-strannood)</td>\n",
       "      <td>F</td>\n",
       "      <td>Netherlands</td>\n",
       "      <td>NED</td>\n",
       "      <td>1932</td>\n",
       "      <td>Los Angeles</td>\n",
       "      <td>Athletics</td>\n",
       "      <td>Athletics Women's 100 metres</td>\n",
       "      <td>No medal</td>\n",
       "    </tr>\n",
       "  </tbody>\n",
       "</table>\n",
       "</div>"
      ],
      "text/plain": [
       "                    Name Sex            Team  NOC  Year         City  \\\n",
       "0              A Dijiang   M           China  CHN  1992    Barcelona   \n",
       "1               A Lamusi   M           China  CHN  2012       London   \n",
       "2            Gunnar Aaby   M         Denmark  DEN  1920    Antwerpen   \n",
       "3            Edgar Aabye   M  Denmark/Sweden  DEN  1900        Paris   \n",
       "4  Cornelia (-strannood)   F     Netherlands  NED  1932  Los Angeles   \n",
       "\n",
       "        Sport                         Event     Medal  \n",
       "0  Basketball   Basketball Men's Basketball  No medal  \n",
       "1        Judo  Judo Men's Extra-Lightweight  No medal  \n",
       "2    Football       Football Men's Football  No medal  \n",
       "3  Tug-Of-War   Tug-Of-War Men's Tug-Of-War      Gold  \n",
       "4   Athletics  Athletics Women's 100 metres  No medal  "
      ]
     },
     "execution_count": 6,
     "metadata": {},
     "output_type": "execute_result"
    }
   ],
   "source": [
    "import pandas as pd\n",
    "from statsmodels.tsa.arima.model import ARIMA\n",
    "from sklearn.metrics import mean_squared_error\n",
    "from math import sqrt\n",
    "import matplotlib.pyplot as plt\n",
    "\n",
    "file_path = 'summerOly_athletes.csv'\n",
    "data = pd.read_csv(file_path)\n",
    "\n",
    "data.head()"
   ]
  },
  {
   "cell_type": "code",
   "execution_count": 7,
   "metadata": {},
   "outputs": [
    {
     "data": {
      "text/plain": [
       "\"\\ndenmark_medals = denmark_medals.reset_index(name='Medal_Count')\\ndenmark_medals['Year'] = pd.to_datetime(denmark_medals['Year'], format='%Y')\\ndenmark_medals = denmark_medals.set_index('Year')\\n\\ndenmark_medals.head()\""
      ]
     },
     "execution_count": 7,
     "metadata": {},
     "output_type": "execute_result"
    }
   ],
   "source": [
    "denmark_data = data[data['NOC'].str.contains('USA', na=False)]\n",
    "denmark_medals = denmark_data[denmark_data['Medal'] != 'No medal'].groupby('Year').size()\n",
    "denmark_medals\n",
    "'''\n",
    "denmark_medals = denmark_medals.reset_index(name='Medal_Count')\n",
    "denmark_medals['Year'] = pd.to_datetime(denmark_medals['Year'], format='%Y')\n",
    "denmark_medals = denmark_medals.set_index('Year')\n",
    "\n",
    "denmark_medals.head()'''"
   ]
  },
  {
   "cell_type": "code",
   "execution_count": 6,
   "metadata": {},
   "outputs": [
    {
     "name": "stderr",
     "output_type": "stream",
     "text": [
      "/usr/local/python/3.12.1/lib/python3.12/site-packages/statsmodels/base/model.py:607: ConvergenceWarning: Maximum Likelihood optimization failed to converge. Check mle_retvals\n",
      "  warnings.warn(\"Maximum Likelihood optimization failed to \"\n"
     ]
    },
    {
     "name": "stdout",
     "output_type": "stream",
     "text": [
      "predicted=138.541, expected=352.000\n",
      "predicted=138.838, expected=207.000\n",
      "predicted=175.815, expected=224.000\n",
      "predicted=224.179, expected=259.000\n",
      "predicted=283.362, expected=242.000\n",
      "predicted=282.398, expected=263.000\n",
      "predicted=194.842, expected=317.000\n",
      "predicted=247.727, expected=248.000\n",
      "predicted=261.475, expected=264.000\n",
      "predicted=276.206, expected=298.000\n",
      "predicted=285.630, expected=321.000\n",
      "Test RMSE: 81.177\n"
     ]
    },
    {
     "data": {
      "image/png": "[encoded data removed]",
      "text/plain": [
       "<Figure size 640x480 with 1 Axes>"
      ]
     },
     "metadata": {},
     "output_type": "display_data"
    }
   ],
   "source": [
    "#time series\n",
    "series = denmark_medals['Medal_Count']\n",
    "series.index = series.index.to_period('Y')\n",
    "\n",
    "# split into train and test sets\n",
    "X = series.values\n",
    "train_size = int(len(X) * 0.66)\n",
    "train, test = X[:train_size], X[train_size:]\n",
    "history = list(train)\n",
    "predictions = []\n",
    "\n",
    "for t in range(len(test)):\n",
    "    model = ARIMA(history, order=(5, 1, 0))  # ARIMA(p=5, d=1, q=0)\n",
    "    model_fit = model.fit()\n",
    "    yhat = model_fit.forecast()[0]\n",
    "    predictions.append(yhat)\n",
    "    obs = test[t]\n",
    "    history.append(obs)\n",
    "    print(f'predicted={yhat:.3f}, expected={obs:.3f}')\n",
    "\n",
    "# evaluate rmse\n",
    "rmse = sqrt(mean_squared_error(test, predictions))\n",
    "print(f'Test RMSE: {rmse:.3f}')\n",
    "\n",
    "# plot forecasts against actual outcomes\n",
    "plt.clf()\n",
    "plt.plot(test, label='Actual')\n",
    "plt.plot(predictions, color='red', label='Predicted')\n",
    "plt.legend()\n",
    "plt.title(\"Denmark Olympic Medals Prediction\")\n",
    "plt.show()"
   ]
  },
  {
   "cell_type": "code",
   "execution_count": 7,
   "metadata": {},
   "outputs": [
    {
     "name": "stdout",
     "output_type": "stream",
     "text": [
      "Predicted medal count for 2026: 270.543\n"
     ]
    },
    {
     "name": "stderr",
     "output_type": "stream",
     "text": [
      "/tmp/ipykernel_2311/1734151418.py:6: FutureWarning: Series.__getitem__ treating keys as positions is deprecated. In a future version, integer keys will always be treated as labels (consistent with DataFrame behavior). To access a value by position, use `ser.iloc[pos]`\n",
      "  next_year_forecast = final_model_fit.forecast(steps=1)[0]\n"
     ]
    }
   ],
   "source": [
    "# fit the model on the entire series\n",
    "final_model = ARIMA(series, order=(5, 1, 0))  # Use the same (p, d, q) from earlier\n",
    "final_model_fit = final_model.fit()\n",
    "\n",
    "# forecast next year's medal count\n",
    "next_year_forecast = final_model_fit.forecast(steps=1)[0]\n",
    "\n",
    "# Display the prediction for the next year\n",
    "next_year = series.index[-1] + 2  # Predict for the year following the last observation\n",
    "print(f\"Predicted medal count for {next_year}: {next_year_forecast:.3f}\")\n"
   ]
  }
 ],
 "metadata": {
  "kernelspec": {
   "display_name": "Python 3",
   "language": "python",
   "name": "python3"
  },
  "language_info": {
   "codemirror_mode": {
    "name": "ipython",
    "version": 3
   },
   "file_extension": ".py",
   "mimetype": "text/x-python",
   "name": "python",
   "nbconvert_exporter": "python",
   "pygments_lexer": "ipython3",
   "version": "3.12.1"
  }
 },
 "nbformat": 4,
 "nbformat_minor": 2
}
